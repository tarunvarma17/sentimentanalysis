{
 "cells": [
  {
   "cell_type": "code",
   "execution_count": 1,
   "id": "constant-glenn",
   "metadata": {
    "_cell_guid": "b1076dfc-b9ad-4769-8c92-a6c4dae69d19",
    "_uuid": "8f2839f25d086af736a60e9eeb907d3b93b6e0e5",
    "execution": {
     "iopub.execute_input": "2021-04-09T08:16:07.539542Z",
     "iopub.status.busy": "2021-04-09T08:16:07.538882Z",
     "iopub.status.idle": "2021-04-09T08:16:07.554198Z",
     "shell.execute_reply": "2021-04-09T08:16:07.553539Z"
    },
    "papermill": {
     "duration": 0.037686,
     "end_time": "2021-04-09T08:16:07.554368",
     "exception": false,
     "start_time": "2021-04-09T08:16:07.516682",
     "status": "completed"
    },
    "tags": []
   },
   "outputs": [
    {
     "name": "stdout",
     "output_type": "stream",
     "text": [
      "/kaggle/input/trip-advisor-hotel-reviews/tripadvisor_hotel_reviews.csv\n"
     ]
    }
   ],
   "source": [
    "# This Python 3 environment comes with many helpful analytics libraries installed\n",
    "# It is defined by the kaggle/python Docker image: https://github.com/kaggle/docker-python\n",
    "# For example, here's several helpful packages to load\n",
    "\n",
    "import numpy as np # linear algebra\n",
    "import pandas as pd # data processing, CSV file I/O (e.g. pd.read_csv)\n",
    "\n",
    "# Input data files are available in the read-only \"../input/\" directory\n",
    "# For example, running this (by clicking run or pressing Shift+Enter) will list all files under the input directory\n",
    "\n",
    "import os\n",
    "for dirname, _, filenames in os.walk('/kaggle/input'):\n",
    "    for filename in filenames:\n",
    "        print(os.path.join(dirname, filename))\n",
    "\n",
    "# You can write up to 20GB to the current directory (/kaggle/working/) that gets preserved as output when you create a version using \"Save & Run All\" \n",
    "# You can also write temporary files to /kaggle/temp/, but they won't be saved outside of the current session"
   ]
  },
  {
   "cell_type": "markdown",
   "id": "classical-definition",
   "metadata": {
    "papermill": {
     "duration": 0.011535,
     "end_time": "2021-04-09T08:16:07.578634",
     "exception": false,
     "start_time": "2021-04-09T08:16:07.567099",
     "status": "completed"
    },
    "tags": []
   },
   "source": [
    "### Load the Dataset into a DataFrame"
   ]
  },
  {
   "cell_type": "code",
   "execution_count": 2,
   "id": "sixth-focus",
   "metadata": {
    "execution": {
     "iopub.execute_input": "2021-04-09T08:16:07.608233Z",
     "iopub.status.busy": "2021-04-09T08:16:07.607265Z",
     "iopub.status.idle": "2021-04-09T08:16:08.026397Z",
     "shell.execute_reply": "2021-04-09T08:16:08.025595Z"
    },
    "papermill": {
     "duration": 0.436055,
     "end_time": "2021-04-09T08:16:08.026563",
     "exception": false,
     "start_time": "2021-04-09T08:16:07.590508",
     "status": "completed"
    },
    "tags": []
   },
   "outputs": [],
   "source": [
    "df = pd.read_csv('../input/trip-advisor-hotel-reviews/tripadvisor_hotel_reviews.csv')"
   ]
  },
  {
   "cell_type": "markdown",
   "id": "digital-creek",
   "metadata": {
    "papermill": {
     "duration": 0.011872,
     "end_time": "2021-04-09T08:16:08.050752",
     "exception": false,
     "start_time": "2021-04-09T08:16:08.038880",
     "status": "completed"
    },
    "tags": []
   },
   "source": [
    "### Clean the Data, and equally distribute Positive's and Negative's"
   ]
  },
  {
   "cell_type": "code",
   "execution_count": 3,
   "id": "rural-gender",
   "metadata": {
    "execution": {
     "iopub.execute_input": "2021-04-09T08:16:08.092568Z",
     "iopub.status.busy": "2021-04-09T08:16:08.091569Z",
     "iopub.status.idle": "2021-04-09T08:16:08.126555Z",
     "shell.execute_reply": "2021-04-09T08:16:08.125972Z"
    },
    "papermill": {
     "duration": 0.063782,
     "end_time": "2021-04-09T08:16:08.126714",
     "exception": false,
     "start_time": "2021-04-09T08:16:08.062932",
     "status": "completed"
    },
    "tags": []
   },
   "outputs": [],
   "source": [
    "#First, create a Dataframe with just the Five Star Reviews\n",
    "\n",
    "df_five = df.loc[(df[\"Rating\"] == 5)]\n",
    "df_five = df_five.reset_index(drop = True)\n",
    "\n",
    "#Now, another one with Ratings 1 and 2, to represent the negative sentiments\n",
    "\n",
    "#Note that we are leaving out the 3 and 4 star Reviews. This is simply because  the 1-2 star reviews are more \n",
    "#likely to capture the negative aspects while there are enough 5 star reviews to make up the posisitve part\n",
    "\n",
    "df_neg = df.loc[df[\"Rating\"] <3]\n",
    "df_neg = df_neg.reset_index(drop = True)\n",
    "\n",
    "#Since we want an equal number of Positive and Negative reviews, we limit the 5-star reviews to be equally distributed\n",
    "\n",
    "df_pos = df_five.loc[:3213]\n",
    "\n",
    "#Next, we join the two two Dataframes vertically and reset the indices\n",
    "\n",
    "df_all = pd.concat([df_neg, df_pos], axis = 0)\n",
    "df_all = df_all.reset_index(drop = True)"
   ]
  },
  {
   "cell_type": "markdown",
   "id": "saving-search",
   "metadata": {
    "papermill": {
     "duration": 0.012084,
     "end_time": "2021-04-09T08:16:08.151154",
     "exception": false,
     "start_time": "2021-04-09T08:16:08.139070",
     "status": "completed"
    },
    "tags": []
   },
   "source": [
    "### Create a Sentiments Column"
   ]
  },
  {
   "cell_type": "code",
   "execution_count": 4,
   "id": "suffering-possession",
   "metadata": {
    "execution": {
     "iopub.execute_input": "2021-04-09T08:16:08.183275Z",
     "iopub.status.busy": "2021-04-09T08:16:08.182218Z",
     "iopub.status.idle": "2021-04-09T08:16:08.191322Z",
     "shell.execute_reply": "2021-04-09T08:16:08.190604Z"
    },
    "papermill": {
     "duration": 0.027925,
     "end_time": "2021-04-09T08:16:08.191498",
     "exception": false,
     "start_time": "2021-04-09T08:16:08.163573",
     "status": "completed"
    },
    "tags": []
   },
   "outputs": [],
   "source": [
    "#Adding a Sentiment column to be \"Positive\" when Rating is 5, and Negative otherwise (1-2)\n",
    "\n",
    "df_all[\"Sentiment\"] = np.where(df_all[\"Rating\"] == 5, \"Positive\", \"Negative\")\n",
    "\n",
    "#Scramble the new dataset\n",
    "\n",
    "df_all = df_all.sample(frac= 1)\n",
    "df_all = df_all.reset_index(drop = True)"
   ]
  },
  {
   "cell_type": "markdown",
   "id": "chicken-floor",
   "metadata": {
    "papermill": {
     "duration": 0.012022,
     "end_time": "2021-04-09T08:16:08.216586",
     "exception": false,
     "start_time": "2021-04-09T08:16:08.204564",
     "status": "completed"
    },
    "tags": []
   },
   "source": [
    "### Split into test and training examples"
   ]
  },
  {
   "cell_type": "code",
   "execution_count": 5,
   "id": "indirect-stress",
   "metadata": {
    "execution": {
     "iopub.execute_input": "2021-04-09T08:16:08.249395Z",
     "iopub.status.busy": "2021-04-09T08:16:08.248467Z",
     "iopub.status.idle": "2021-04-09T08:16:09.554479Z",
     "shell.execute_reply": "2021-04-09T08:16:09.553920Z"
    },
    "papermill": {
     "duration": 1.325633,
     "end_time": "2021-04-09T08:16:09.554646",
     "exception": false,
     "start_time": "2021-04-09T08:16:08.229013",
     "status": "completed"
    },
    "tags": []
   },
   "outputs": [],
   "source": [
    "from sklearn.model_selection import train_test_split\n",
    "x_train, x_test, y_train, y_test = train_test_split(df_all.Review, df_all.Sentiment)\n",
    "x_train = x_train.reset_index(drop = True)\n",
    "x_test = x_test.reset_index(drop = True)\n",
    "y_train = y_train.reset_index(drop = True)\n",
    "y_test = y_test.reset_index(drop = True)"
   ]
  },
  {
   "cell_type": "markdown",
   "id": "neural-opinion",
   "metadata": {
    "papermill": {
     "duration": 0.012235,
     "end_time": "2021-04-09T08:16:09.579471",
     "exception": false,
     "start_time": "2021-04-09T08:16:09.567236",
     "status": "completed"
    },
    "tags": []
   },
   "source": [
    "### Vectorize all the Reviews to convert from Text to Sparse Matrix"
   ]
  },
  {
   "cell_type": "code",
   "execution_count": 6,
   "id": "passing-costa",
   "metadata": {
    "execution": {
     "iopub.execute_input": "2021-04-09T08:16:09.609982Z",
     "iopub.status.busy": "2021-04-09T08:16:09.609109Z",
     "iopub.status.idle": "2021-04-09T08:16:10.626917Z",
     "shell.execute_reply": "2021-04-09T08:16:10.626326Z"
    },
    "papermill": {
     "duration": 1.035174,
     "end_time": "2021-04-09T08:16:10.627083",
     "exception": false,
     "start_time": "2021-04-09T08:16:09.591909",
     "status": "completed"
    },
    "tags": []
   },
   "outputs": [],
   "source": [
    "#Using Bags Of Words, vectorize all the reviews\n",
    "\n",
    "from sklearn.feature_extraction.text import CountVectorizer, TfidfVectorizer\n",
    "v = TfidfVectorizer()\n",
    "x_train_vec = v.fit_transform(x_train)\n",
    "x_test_vec = v.transform(x_test)"
   ]
  },
  {
   "cell_type": "markdown",
   "id": "necessary-words",
   "metadata": {
    "papermill": {
     "duration": 0.012731,
     "end_time": "2021-04-09T08:16:10.652495",
     "exception": false,
     "start_time": "2021-04-09T08:16:10.639764",
     "status": "completed"
    },
    "tags": []
   },
   "source": [
    "### Using an SVM model, fit the training data in vector form "
   ]
  },
  {
   "cell_type": "code",
   "execution_count": 7,
   "id": "heavy-gilbert",
   "metadata": {
    "execution": {
     "iopub.execute_input": "2021-04-09T08:16:10.684465Z",
     "iopub.status.busy": "2021-04-09T08:16:10.683344Z",
     "iopub.status.idle": "2021-04-09T08:16:20.048482Z",
     "shell.execute_reply": "2021-04-09T08:16:20.047761Z"
    },
    "papermill": {
     "duration": 9.383338,
     "end_time": "2021-04-09T08:16:20.048638",
     "exception": false,
     "start_time": "2021-04-09T08:16:10.665300",
     "status": "completed"
    },
    "tags": []
   },
   "outputs": [
    {
     "data": {
      "text/plain": [
       "SVC(kernel='linear')"
      ]
     },
     "execution_count": 7,
     "metadata": {},
     "output_type": "execute_result"
    }
   ],
   "source": [
    "from sklearn import svm\n",
    "clf_svm = svm.SVC(kernel = 'linear')\n",
    "clf_svm.fit(x_train_vec, y_train)\n"
   ]
  },
  {
   "cell_type": "markdown",
   "id": "capable-values",
   "metadata": {
    "papermill": {
     "duration": 0.013283,
     "end_time": "2021-04-09T08:16:20.075173",
     "exception": false,
     "start_time": "2021-04-09T08:16:20.061890",
     "status": "completed"
    },
    "tags": []
   },
   "source": [
    "### Find the Accuracy and F1 Score"
   ]
  },
  {
   "cell_type": "code",
   "execution_count": 8,
   "id": "functional-pioneer",
   "metadata": {
    "execution": {
     "iopub.execute_input": "2021-04-09T08:16:20.107866Z",
     "iopub.status.busy": "2021-04-09T08:16:20.106888Z",
     "iopub.status.idle": "2021-04-09T08:16:22.674491Z",
     "shell.execute_reply": "2021-04-09T08:16:22.675002Z"
    },
    "papermill": {
     "duration": 2.586492,
     "end_time": "2021-04-09T08:16:22.675175",
     "exception": false,
     "start_time": "2021-04-09T08:16:20.088683",
     "status": "completed"
    },
    "tags": []
   },
   "outputs": [
    {
     "data": {
      "text/plain": [
       "0.9614187927815806"
      ]
     },
     "execution_count": 8,
     "metadata": {},
     "output_type": "execute_result"
    }
   ],
   "source": [
    "#Accuracy of the model\n",
    "\n",
    "clf_svm.score(x_test_vec, y_test)"
   ]
  },
  {
   "cell_type": "code",
   "execution_count": 9,
   "id": "alive-click",
   "metadata": {
    "execution": {
     "iopub.execute_input": "2021-04-09T08:16:22.709622Z",
     "iopub.status.busy": "2021-04-09T08:16:22.708923Z",
     "iopub.status.idle": "2021-04-09T08:16:25.303056Z",
     "shell.execute_reply": "2021-04-09T08:16:25.303584Z"
    },
    "papermill": {
     "duration": 2.614811,
     "end_time": "2021-04-09T08:16:25.303775",
     "exception": false,
     "start_time": "2021-04-09T08:16:22.688964",
     "status": "completed"
    },
    "tags": []
   },
   "outputs": [
    {
     "data": {
      "text/plain": [
       "array([0.96050955, 0.9622871 ])"
      ]
     },
     "execution_count": 9,
     "metadata": {},
     "output_type": "execute_result"
    }
   ],
   "source": [
    "#Getting the F1 score to ensure there aren't too many false positives/negatives\n",
    "\n",
    "from sklearn.metrics import f1_score\n",
    "\n",
    "f1_score(y_test, clf_svm.predict(x_test_vec), average = None)"
   ]
  },
  {
   "cell_type": "markdown",
   "id": "hungarian-julian",
   "metadata": {
    "papermill": {
     "duration": 0.013907,
     "end_time": "2021-04-09T08:16:25.332887",
     "exception": false,
     "start_time": "2021-04-09T08:16:25.318980",
     "status": "completed"
    },
    "tags": []
   },
   "source": [
    "### Test the model with your own reviews"
   ]
  },
  {
   "cell_type": "code",
   "execution_count": 10,
   "id": "centered-muslim",
   "metadata": {
    "execution": {
     "iopub.execute_input": "2021-04-09T08:16:25.367122Z",
     "iopub.status.busy": "2021-04-09T08:16:25.366409Z",
     "iopub.status.idle": "2021-04-09T08:16:25.375651Z",
     "shell.execute_reply": "2021-04-09T08:16:25.376187Z"
    },
    "papermill": {
     "duration": 0.029336,
     "end_time": "2021-04-09T08:16:25.376407",
     "exception": false,
     "start_time": "2021-04-09T08:16:25.347071",
     "status": "completed"
    },
    "tags": []
   },
   "outputs": [
    {
     "data": {
      "text/plain": [
       "array(['Positive', 'Negative', 'Positive'], dtype=object)"
      ]
     },
     "execution_count": 10,
     "metadata": {},
     "output_type": "execute_result"
    }
   ],
   "source": [
    "re1 = [\"Beautiful location and ambience, cant wait to come back\", \"Incredibly overrated and dull\", \n",
    "       \"Enjoyed myself thoroughly\"]\n",
    "re1_vec = v.transform(re1)\n",
    "clf_svm.predict(re1_vec)"
   ]
  }
 ],
 "metadata": {
  "kernelspec": {
   "display_name": "Python 3",
   "language": "python",
   "name": "python3"
  },
  "language_info": {
   "codemirror_mode": {
    "name": "ipython",
    "version": 3
   },
   "file_extension": ".py",
   "mimetype": "text/x-python",
   "name": "python",
   "nbconvert_exporter": "python",
   "pygments_lexer": "ipython3",
   "version": "3.7.9"
  },
  "papermill": {
   "default_parameters": {},
   "duration": 26.374225,
   "end_time": "2021-04-09T08:16:26.102127",
   "environment_variables": {},
   "exception": null,
   "input_path": "__notebook__.ipynb",
   "output_path": "__notebook__.ipynb",
   "parameters": {},
   "start_time": "2021-04-09T08:15:59.727902",
   "version": "2.3.2"
  }
 },
 "nbformat": 4,
 "nbformat_minor": 5
}
